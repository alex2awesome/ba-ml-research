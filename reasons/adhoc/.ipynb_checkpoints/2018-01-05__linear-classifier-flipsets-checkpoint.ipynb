{
 "cells": [
  {
   "cell_type": "code",
   "execution_count": 104,
   "metadata": {},
   "outputs": [],
   "source": [
    "from sklearn.linear_model import (\n",
    "    LinearRegression,\n",
    "    RidgeClassifierCV,\n",
    "    LogisticRegression,\n",
    "    LogisticRegressionCV,\n",
    ")\n",
    "from sklearn.model_selection import train_test_split\n",
    "from sklearn.metrics import roc_auc_score\n",
    "import numpy as np \n",
    "import pandas as pd \n",
    "\n",
    "import matplotlib.pyplot as plt\n",
    "%matplotlib inline"
   ]
  },
  {
   "cell_type": "markdown",
   "metadata": {},
   "source": [
    "## Generate data"
   ]
  },
  {
   "cell_type": "code",
   "execution_count": 161,
   "metadata": {},
   "outputs": [],
   "source": [
    "d = 2\n",
    "n_pos = 1000\n",
    "n_neg = 1000\n",
    "lambda_pos = [10, .5]#, .3]# , 9, 10]\n",
    "lambda_neg = [.5, 10]#, 20] #, .2, .1]\n",
    "X_pos = np.random.poisson(lambda_pos, size=(n_pos, d))\n",
    "y_pos = np.ones(n_pos)\n",
    "X_neg = np.random.poisson(lambda_neg, size=(n_neg, d))\n",
    "y_neg = -1 * np.ones(n_neg)\n",
    "\n",
    "X = np.vstack([X_pos, X_neg])\n",
    "y = np.hstack([y_pos, y_neg])"
   ]
  },
  {
   "cell_type": "code",
   "execution_count": 162,
   "metadata": {},
   "outputs": [
    {
     "data": {
      "text/plain": [
       "array([[ 8,  0],\n",
       "       [ 8,  1],\n",
       "       [11,  1],\n",
       "       ..., \n",
       "       [ 0, 14],\n",
       "       [ 0,  8],\n",
       "       [ 2,  6]])"
      ]
     },
     "execution_count": 162,
     "metadata": {},
     "output_type": "execute_result"
    }
   ],
   "source": [
    "X"
   ]
  },
  {
   "cell_type": "code",
   "execution_count": 163,
   "metadata": {},
   "outputs": [
    {
     "data": {
      "text/plain": [
       "array([ 1.,  1.,  1., ..., -1., -1., -1.])"
      ]
     },
     "execution_count": 163,
     "metadata": {},
     "output_type": "execute_result"
    }
   ],
   "source": [
    "y"
   ]
  },
  {
   "cell_type": "markdown",
   "metadata": {},
   "source": [
    "## train model"
   ]
  },
  {
   "cell_type": "code",
   "execution_count": 164,
   "metadata": {},
   "outputs": [
    {
     "data": {
      "text/plain": [
       "LinearRegression(copy_X=True, fit_intercept=True, n_jobs=1, normalize=False)"
      ]
     },
     "execution_count": 164,
     "metadata": {},
     "output_type": "execute_result"
    }
   ],
   "source": [
    "X_train, X_test, y_train, y_test = train_test_split(X, y, test_size=.2)\n",
    "lr = RidgeClassifierCV()\n",
    "lr = LogisticRegressionCV(Cs=10)\n",
    "lr = LinearRegression()\n",
    "lr.fit(X_train, y_train)"
   ]
  },
  {
   "cell_type": "code",
   "execution_count": 186,
   "metadata": {},
   "outputs": [
    {
     "data": {
      "text/plain": [
       "array([ 0.09520219, -0.09315356])"
      ]
     },
     "execution_count": 186,
     "metadata": {},
     "output_type": "execute_result"
    }
   ],
   "source": [
    "beta = lr.coef_\n",
    "beta"
   ]
  },
  {
   "cell_type": "code",
   "execution_count": 166,
   "metadata": {},
   "outputs": [],
   "source": [
    "# y_pred = lr.predict_proba(X_test)[:, 1]\n",
    "y_pred = lr.predict(X_test)"
   ]
  },
  {
   "cell_type": "markdown",
   "metadata": {},
   "source": [
    "Decision line: \n",
    "$$\\beta_0 * X_{i, 0} + \\beta_1 * X_{i, 1} = 0$$\n",
    "$$X_{i, 0} = \\frac{- \\beta_1 * X_{i, 1}}{\\beta_0}$$"
   ]
  },
  {
   "cell_type": "code",
   "execution_count": 192,
   "metadata": {},
   "outputs": [
    {
     "data": {
      "image/png": "[encoded data removed]",
      "text/plain": [
       "<matplotlib.figure.Figure at 0x1155c6610>"
      ]
     },
     "metadata": {},
     "output_type": "display_data"
    }
   ],
   "source": [
    "X_1 = np.linspace(X_test[:, 1].min(), X_test[:, 1].max())\n",
    "X_0 = (-beta[1] * X_1) / beta[0]\n",
    "\n",
    "neg = np.where(y_test == -1)[0]\n",
    "pos = np.where(y_test == 1)[0]\n",
    "plt.scatter(X_test[pos][:, 0], X_test[pos][:, 1], alpha=.5, label='Positive Examples')\n",
    "plt.scatter(X_test[neg][:, 0], X_test[neg][:, 1], alpha=.5, c='red', label='Negative Examples')\n",
    "plt.plot(X_0, X_1, label='Decision line', c='black')\n",
    "plt.legend()\n",
    "plt.title(\"Scatter plot of datapoints by class\");"
   ]
  },
  {
   "cell_type": "code",
   "execution_count": 167,
   "metadata": {
    "scrolled": true
   },
   "outputs": [
    {
     "data": {
      "image/png": "[encoded data removed]",
      "text/plain": [
       "<matplotlib.figure.Figure at 0x11646f090>"
      ]
     },
     "metadata": {},
     "output_type": "display_data"
    }
   ],
   "source": [
    "pd.Series(y_pred).hist(bins=50)\n",
    "plt.title(\"Histogram of predictions (Linear Regression)\")\n",
    "y_min, y_max = plt.ylim()\n",
    "plt.vlines(0, y_min, y_max, linestyle=\"dashed\")\n",
    "plt.text(-.03, y_max* .8, \"Decision Boundary\", horizontalalignment=\"right\")\n",
    "plt.grid();"
   ]
  },
  {
   "cell_type": "code",
   "execution_count": 168,
   "metadata": {},
   "outputs": [
    {
     "data": {
      "text/plain": [
       "1.0"
      ]
     },
     "execution_count": 168,
     "metadata": {},
     "output_type": "execute_result"
    }
   ],
   "source": [
    "roc_auc_score(y_test, y_pred)"
   ]
  },
  {
   "cell_type": "markdown",
   "metadata": {},
   "source": [
    "OK, so our classifier is very accurate on this fake data."
   ]
  },
  {
   "cell_type": "markdown",
   "metadata": {},
   "source": [
    "## Find flipsets iteratively"
   ]
  },
  {
   "cell_type": "markdown",
   "metadata": {},
   "source": [
    "For the 2-dimensional case, the predicted score is calculated using the following linear equation:"
   ]
  },
  {
   "cell_type": "markdown",
   "metadata": {},
   "source": [
    "$$\\beta_0 * (X_{i, 0} + a_0) + \\beta_1 * (X_{i, 1} + a_1) = score$$"
   ]
  },
  {
   "cell_type": "markdown",
   "metadata": {},
   "source": [
    "$a_1^{max}$ is the action set taken when $a_0 = 0$:\n",
    "$$ a_1^{max} = \\frac{- \\beta_0 * X_{i, 0}}{\\beta_1} - X_{i, 1}$$\n",
    "So, to generate all flipsets in the 2-dim case, let's just step up towards the max:\n",
    "\n",
    "For $a_1^{step}$ in $0,1,...,a_1^{max}$:\n",
    "$$ a_0 = \\frac{- (\\beta_1 * (X_{i, 1} + a_1))}{\\beta_0} - X_{i, 0}$$"
   ]
  },
  {
   "cell_type": "code",
   "execution_count": 300,
   "metadata": {},
   "outputs": [],
   "source": [
    "def get_flip_set(\n",
    "    X_i,\n",
    "    beta, # coefficients of the linear model\n",
    "    S = None, # set of dimensions to consider\n",
    "    bounds=None, # boundaries beyond which we can't take an action on X\n",
    "    decision_boundary=.5 # value of y_pred_i necessary to flip prediction\n",
    "):\n",
    "    if not S:\n",
    "        S = np.arange(len(X_i))\n",
    "    A_dim = X_i[S] # action set\n",
    "    A_set = []\n",
    "    \n",
    "    a_1_max = (-beta[0] * X_i[0] / beta[1]) - X_i[1]\n",
    "    sign = np.sign(a_1_max)\n",
    "    \n",
    "    rounder = np.floor\n",
    "    # if a_1_max sign is -1, then beta_0 sign is 1\n",
    "    if sign == -1:\n",
    "        rounder = np.ceil\n",
    "\n",
    "    # cycle through 0 ,..., a_max\n",
    "    # if a_max is negative, step down\n",
    "    for a_1_step in np.arange(0, a_1_max + sign, step=sign):\n",
    "        a_0_step = (-beta[1] * (X_i[1] + a_1_step) / beta[0]) - X_i[0]\n",
    "        a_0_step = rounder(a_0_step)\n",
    "        A_set.append((a_0_step, a_1_step))\n",
    "    return A_set"
   ]
  },
  {
   "cell_type": "code",
   "execution_count": 301,
   "metadata": {},
   "outputs": [],
   "source": [
    "neg = np.where(y_test == -1)[0]\n",
    "X_i = X_test[neg][0]"
   ]
  },
  {
   "cell_type": "code",
   "execution_count": 302,
   "metadata": {},
   "outputs": [
    {
     "data": {
      "text/plain": [
       "[(7.0, 0.0),\n",
       " (6.0, -1.0),\n",
       " (5.0, -2.0),\n",
       " (4.0, -3.0),\n",
       " (3.0, -4.0),\n",
       " (2.0, -5.0),\n",
       " (1.0, -6.0),\n",
       " (-0.0, -7.0)]"
      ]
     },
     "execution_count": 302,
     "metadata": {},
     "output_type": "execute_result"
    }
   ],
   "source": [
    "test_flip_set = get_flip_set(X_i, beta)\n",
    "test_flip_set"
   ]
  },
  {
   "cell_type": "code",
   "execution_count": 303,
   "metadata": {},
   "outputs": [
    {
     "data": {
      "text/plain": [
       "True"
      ]
     },
     "execution_count": 303,
     "metadata": {},
     "output_type": "execute_result"
    }
   ],
   "source": [
    "# check\n",
    "np.isclose(\n",
    "    y_pred[0],\n",
    "    X_i[0] * beta[0] + X_i[1] * beta[1],\n",
    "    rtol=1e-2,\n",
    ")"
   ]
  },
  {
   "cell_type": "code",
   "execution_count": 304,
   "metadata": {},
   "outputs": [
    {
     "name": "stdout",
     "output_type": "stream",
     "text": [
      "0.0163889774119\n",
      "0.0143403552354\n",
      "0.0122917330589\n",
      "0.0102431108824\n",
      "0.00819448870594\n",
      "0.00614586652946\n",
      "0.00409724435297\n",
      "0.00204862217649\n"
     ]
    }
   ],
   "source": [
    "for a_0, a_1 in test_flip_set:\n",
    "    print (X_i[0] + a_0) * beta[0] + (X_i[1] + a_1) * beta[1]"
   ]
  },
  {
   "cell_type": "markdown",
   "metadata": {},
   "source": [
    "#### great, all positive! "
   ]
  }
 ],
 "metadata": {
  "anaconda-cloud": {},
  "kernelspec": {
   "display_name": "Python 2",
   "language": "python",
   "name": "python2"
  },
  "language_info": {
   "codemirror_mode": {
    "name": "ipython",
    "version": 2
   },
   "file_extension": ".py",
   "mimetype": "text/x-python",
   "name": "python",
   "nbconvert_exporter": "python",
   "pygments_lexer": "ipython2",
   "version": "2.7.13"
  }
 },
 "nbformat": 4,
 "nbformat_minor": 1
}
